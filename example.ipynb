{
 "cells": [
  {
   "cell_type": "code",
   "execution_count": 1,
   "metadata": {
    "collapsed": true
   },
   "outputs": [],
   "source": [
    "import pandas as pd\n",
    "from sklearn.model_selection import train_test_split\n",
    "from incit.feature_selection.filter import FilterSelector\n",
    "from incit.feature_selection.wrapper import WrapperSelector"
   ]
  },
  {
   "cell_type": "code",
   "execution_count": 2,
   "outputs": [
    {
     "data": {
      "text/plain": "   var_1  var_2  var_3  var_4  var_5  var_6  var_7  var_8  var_9  var_10  ...  \\\n0      0      0    0.0   0.00    0.0      0      0      0      0       0  ...   \n1      0      0    0.0   3.00    0.0      0      0      0      0       0  ...   \n2      0      0    0.0   5.88    0.0      0      0      0      0       0  ...   \n3      0      0    0.0  14.10    0.0      0      0      0      0       0  ...   \n4      0      0    0.0   5.76    0.0      0      0      0      0       0  ...   \n\n   var_292  var_293  var_294  var_295  var_296  var_297  var_298  var_299  \\\n0      0.0        0        0        0        0        0        0      0.0   \n1      0.0        0        0        0        0        0        0      0.0   \n2      0.0        0        0        3        0        0        0      0.0   \n3      0.0        0        0        0        0        0        0      0.0   \n4      0.0        0        0        0        0        0        0      0.0   \n\n      var_300  target  \n0      0.0000       0  \n1      0.0000       0  \n2  67772.7216       0  \n3      0.0000       0  \n4      0.0000       0  \n\n[5 rows x 301 columns]",
      "text/html": "<div>\n<style scoped>\n    .dataframe tbody tr th:only-of-type {\n        vertical-align: middle;\n    }\n\n    .dataframe tbody tr th {\n        vertical-align: top;\n    }\n\n    .dataframe thead th {\n        text-align: right;\n    }\n</style>\n<table border=\"1\" class=\"dataframe\">\n  <thead>\n    <tr style=\"text-align: right;\">\n      <th></th>\n      <th>var_1</th>\n      <th>var_2</th>\n      <th>var_3</th>\n      <th>var_4</th>\n      <th>var_5</th>\n      <th>var_6</th>\n      <th>var_7</th>\n      <th>var_8</th>\n      <th>var_9</th>\n      <th>var_10</th>\n      <th>...</th>\n      <th>var_292</th>\n      <th>var_293</th>\n      <th>var_294</th>\n      <th>var_295</th>\n      <th>var_296</th>\n      <th>var_297</th>\n      <th>var_298</th>\n      <th>var_299</th>\n      <th>var_300</th>\n      <th>target</th>\n    </tr>\n  </thead>\n  <tbody>\n    <tr>\n      <th>0</th>\n      <td>0</td>\n      <td>0</td>\n      <td>0.0</td>\n      <td>0.00</td>\n      <td>0.0</td>\n      <td>0</td>\n      <td>0</td>\n      <td>0</td>\n      <td>0</td>\n      <td>0</td>\n      <td>...</td>\n      <td>0.0</td>\n      <td>0</td>\n      <td>0</td>\n      <td>0</td>\n      <td>0</td>\n      <td>0</td>\n      <td>0</td>\n      <td>0.0</td>\n      <td>0.0000</td>\n      <td>0</td>\n    </tr>\n    <tr>\n      <th>1</th>\n      <td>0</td>\n      <td>0</td>\n      <td>0.0</td>\n      <td>3.00</td>\n      <td>0.0</td>\n      <td>0</td>\n      <td>0</td>\n      <td>0</td>\n      <td>0</td>\n      <td>0</td>\n      <td>...</td>\n      <td>0.0</td>\n      <td>0</td>\n      <td>0</td>\n      <td>0</td>\n      <td>0</td>\n      <td>0</td>\n      <td>0</td>\n      <td>0.0</td>\n      <td>0.0000</td>\n      <td>0</td>\n    </tr>\n    <tr>\n      <th>2</th>\n      <td>0</td>\n      <td>0</td>\n      <td>0.0</td>\n      <td>5.88</td>\n      <td>0.0</td>\n      <td>0</td>\n      <td>0</td>\n      <td>0</td>\n      <td>0</td>\n      <td>0</td>\n      <td>...</td>\n      <td>0.0</td>\n      <td>0</td>\n      <td>0</td>\n      <td>3</td>\n      <td>0</td>\n      <td>0</td>\n      <td>0</td>\n      <td>0.0</td>\n      <td>67772.7216</td>\n      <td>0</td>\n    </tr>\n    <tr>\n      <th>3</th>\n      <td>0</td>\n      <td>0</td>\n      <td>0.0</td>\n      <td>14.10</td>\n      <td>0.0</td>\n      <td>0</td>\n      <td>0</td>\n      <td>0</td>\n      <td>0</td>\n      <td>0</td>\n      <td>...</td>\n      <td>0.0</td>\n      <td>0</td>\n      <td>0</td>\n      <td>0</td>\n      <td>0</td>\n      <td>0</td>\n      <td>0</td>\n      <td>0.0</td>\n      <td>0.0000</td>\n      <td>0</td>\n    </tr>\n    <tr>\n      <th>4</th>\n      <td>0</td>\n      <td>0</td>\n      <td>0.0</td>\n      <td>5.76</td>\n      <td>0.0</td>\n      <td>0</td>\n      <td>0</td>\n      <td>0</td>\n      <td>0</td>\n      <td>0</td>\n      <td>...</td>\n      <td>0.0</td>\n      <td>0</td>\n      <td>0</td>\n      <td>0</td>\n      <td>0</td>\n      <td>0</td>\n      <td>0</td>\n      <td>0.0</td>\n      <td>0.0000</td>\n      <td>0</td>\n    </tr>\n  </tbody>\n</table>\n<p>5 rows × 301 columns</p>\n</div>"
     },
     "execution_count": 2,
     "metadata": {},
     "output_type": "execute_result"
    }
   ],
   "source": [
    "data = pd.read_csv(\"data/dataset.csv\")\n",
    "data.head()"
   ],
   "metadata": {
    "collapsed": false,
    "pycharm": {
     "name": "#%%\n"
    }
   }
  },
  {
   "cell_type": "code",
   "execution_count": 3,
   "outputs": [
    {
     "name": "stdout",
     "output_type": "stream",
     "text": [
      "El set de entrenamiento tiene 35000 observaciones, y 300 columnas.\n",
      "El set de prueba tiene 15000 observaciones, y 300 columnas.\n"
     ]
    }
   ],
   "source": [
    "target = data.pop(\"target\")\n",
    "\n",
    "train_data, test_data, train_label, test_label = train_test_split(data, target,\n",
    "                                                                  test_size=0.3, random_state=42)\n",
    "\n",
    "print(f\"El set de entrenamiento tiene {train_data.shape[0]} observaciones, y {train_data.shape[1]} columnas.\")\n",
    "print(f\"El set de prueba tiene {test_data.shape[0]} observaciones, y {test_data.shape[1]} columnas.\")"
   ],
   "metadata": {
    "collapsed": false,
    "pycharm": {
     "name": "#%%\n"
    }
   }
  },
  {
   "cell_type": "markdown",
   "source": [
    "## Filter method"
   ],
   "metadata": {
    "collapsed": false,
    "pycharm": {
     "name": "#%% md\n"
    }
   }
  },
  {
   "cell_type": "code",
   "execution_count": 4,
   "outputs": [],
   "source": [
    "variance = FilterSelector(threshold=1.0)\n",
    "cols_to_drop = variance.apply_variance_selector(data=train_data)"
   ],
   "metadata": {
    "collapsed": false,
    "pycharm": {
     "name": "#%%\n"
    }
   }
  },
  {
   "cell_type": "code",
   "execution_count": 5,
   "outputs": [
    {
     "data": {
      "text/plain": "        var_14   var_23   var_33   var_34   var_44   var_61   var_66   var_67  \\\ncount  35000.0  35000.0  35000.0  35000.0  35000.0  35000.0  35000.0  35000.0   \nmean       0.0      0.0      0.0      0.0      0.0      0.0      0.0      0.0   \nstd        0.0      0.0      0.0      0.0      0.0      0.0      0.0      0.0   \nmin        0.0      0.0      0.0      0.0      0.0      0.0      0.0      0.0   \n25%        0.0      0.0      0.0      0.0      0.0      0.0      0.0      0.0   \n50%        0.0      0.0      0.0      0.0      0.0      0.0      0.0      0.0   \n75%        0.0      0.0      0.0      0.0      0.0      0.0      0.0      0.0   \nmax        0.0      0.0      0.0      0.0      0.0      0.0      0.0      0.0   \n\n        var_69   var_73  ...  var_196  var_201  var_212  var_215  var_225  \\\ncount  35000.0  35000.0  ...  35000.0  35000.0  35000.0  35000.0  35000.0   \nmean       0.0      0.0  ...      0.0      0.0      0.0      0.0      0.0   \nstd        0.0      0.0  ...      0.0      0.0      0.0      0.0      0.0   \nmin        0.0      0.0  ...      0.0      0.0      0.0      0.0      0.0   \n25%        0.0      0.0  ...      0.0      0.0      0.0      0.0      0.0   \n50%        0.0      0.0  ...      0.0      0.0      0.0      0.0      0.0   \n75%        0.0      0.0  ...      0.0      0.0      0.0      0.0      0.0   \nmax        0.0      0.0  ...      0.0      0.0      0.0      0.0      0.0   \n\n       var_227  var_248  var_287  var_294  var_297  \ncount  35000.0  35000.0  35000.0  35000.0  35000.0  \nmean       0.0      0.0      0.0      0.0      0.0  \nstd        0.0      0.0      0.0      0.0      0.0  \nmin        0.0      0.0      0.0      0.0      0.0  \n25%        0.0      0.0      0.0      0.0      0.0  \n50%        0.0      0.0      0.0      0.0      0.0  \n75%        0.0      0.0      0.0      0.0      0.0  \nmax        0.0      0.0      0.0      0.0      0.0  \n\n[8 rows x 42 columns]",
      "text/html": "<div>\n<style scoped>\n    .dataframe tbody tr th:only-of-type {\n        vertical-align: middle;\n    }\n\n    .dataframe tbody tr th {\n        vertical-align: top;\n    }\n\n    .dataframe thead th {\n        text-align: right;\n    }\n</style>\n<table border=\"1\" class=\"dataframe\">\n  <thead>\n    <tr style=\"text-align: right;\">\n      <th></th>\n      <th>var_14</th>\n      <th>var_23</th>\n      <th>var_33</th>\n      <th>var_34</th>\n      <th>var_44</th>\n      <th>var_61</th>\n      <th>var_66</th>\n      <th>var_67</th>\n      <th>var_69</th>\n      <th>var_73</th>\n      <th>...</th>\n      <th>var_196</th>\n      <th>var_201</th>\n      <th>var_212</th>\n      <th>var_215</th>\n      <th>var_225</th>\n      <th>var_227</th>\n      <th>var_248</th>\n      <th>var_287</th>\n      <th>var_294</th>\n      <th>var_297</th>\n    </tr>\n  </thead>\n  <tbody>\n    <tr>\n      <th>count</th>\n      <td>35000.0</td>\n      <td>35000.0</td>\n      <td>35000.0</td>\n      <td>35000.0</td>\n      <td>35000.0</td>\n      <td>35000.0</td>\n      <td>35000.0</td>\n      <td>35000.0</td>\n      <td>35000.0</td>\n      <td>35000.0</td>\n      <td>...</td>\n      <td>35000.0</td>\n      <td>35000.0</td>\n      <td>35000.0</td>\n      <td>35000.0</td>\n      <td>35000.0</td>\n      <td>35000.0</td>\n      <td>35000.0</td>\n      <td>35000.0</td>\n      <td>35000.0</td>\n      <td>35000.0</td>\n    </tr>\n    <tr>\n      <th>mean</th>\n      <td>0.0</td>\n      <td>0.0</td>\n      <td>0.0</td>\n      <td>0.0</td>\n      <td>0.0</td>\n      <td>0.0</td>\n      <td>0.0</td>\n      <td>0.0</td>\n      <td>0.0</td>\n      <td>0.0</td>\n      <td>...</td>\n      <td>0.0</td>\n      <td>0.0</td>\n      <td>0.0</td>\n      <td>0.0</td>\n      <td>0.0</td>\n      <td>0.0</td>\n      <td>0.0</td>\n      <td>0.0</td>\n      <td>0.0</td>\n      <td>0.0</td>\n    </tr>\n    <tr>\n      <th>std</th>\n      <td>0.0</td>\n      <td>0.0</td>\n      <td>0.0</td>\n      <td>0.0</td>\n      <td>0.0</td>\n      <td>0.0</td>\n      <td>0.0</td>\n      <td>0.0</td>\n      <td>0.0</td>\n      <td>0.0</td>\n      <td>...</td>\n      <td>0.0</td>\n      <td>0.0</td>\n      <td>0.0</td>\n      <td>0.0</td>\n      <td>0.0</td>\n      <td>0.0</td>\n      <td>0.0</td>\n      <td>0.0</td>\n      <td>0.0</td>\n      <td>0.0</td>\n    </tr>\n    <tr>\n      <th>min</th>\n      <td>0.0</td>\n      <td>0.0</td>\n      <td>0.0</td>\n      <td>0.0</td>\n      <td>0.0</td>\n      <td>0.0</td>\n      <td>0.0</td>\n      <td>0.0</td>\n      <td>0.0</td>\n      <td>0.0</td>\n      <td>...</td>\n      <td>0.0</td>\n      <td>0.0</td>\n      <td>0.0</td>\n      <td>0.0</td>\n      <td>0.0</td>\n      <td>0.0</td>\n      <td>0.0</td>\n      <td>0.0</td>\n      <td>0.0</td>\n      <td>0.0</td>\n    </tr>\n    <tr>\n      <th>25%</th>\n      <td>0.0</td>\n      <td>0.0</td>\n      <td>0.0</td>\n      <td>0.0</td>\n      <td>0.0</td>\n      <td>0.0</td>\n      <td>0.0</td>\n      <td>0.0</td>\n      <td>0.0</td>\n      <td>0.0</td>\n      <td>...</td>\n      <td>0.0</td>\n      <td>0.0</td>\n      <td>0.0</td>\n      <td>0.0</td>\n      <td>0.0</td>\n      <td>0.0</td>\n      <td>0.0</td>\n      <td>0.0</td>\n      <td>0.0</td>\n      <td>0.0</td>\n    </tr>\n    <tr>\n      <th>50%</th>\n      <td>0.0</td>\n      <td>0.0</td>\n      <td>0.0</td>\n      <td>0.0</td>\n      <td>0.0</td>\n      <td>0.0</td>\n      <td>0.0</td>\n      <td>0.0</td>\n      <td>0.0</td>\n      <td>0.0</td>\n      <td>...</td>\n      <td>0.0</td>\n      <td>0.0</td>\n      <td>0.0</td>\n      <td>0.0</td>\n      <td>0.0</td>\n      <td>0.0</td>\n      <td>0.0</td>\n      <td>0.0</td>\n      <td>0.0</td>\n      <td>0.0</td>\n    </tr>\n    <tr>\n      <th>75%</th>\n      <td>0.0</td>\n      <td>0.0</td>\n      <td>0.0</td>\n      <td>0.0</td>\n      <td>0.0</td>\n      <td>0.0</td>\n      <td>0.0</td>\n      <td>0.0</td>\n      <td>0.0</td>\n      <td>0.0</td>\n      <td>...</td>\n      <td>0.0</td>\n      <td>0.0</td>\n      <td>0.0</td>\n      <td>0.0</td>\n      <td>0.0</td>\n      <td>0.0</td>\n      <td>0.0</td>\n      <td>0.0</td>\n      <td>0.0</td>\n      <td>0.0</td>\n    </tr>\n    <tr>\n      <th>max</th>\n      <td>0.0</td>\n      <td>0.0</td>\n      <td>0.0</td>\n      <td>0.0</td>\n      <td>0.0</td>\n      <td>0.0</td>\n      <td>0.0</td>\n      <td>0.0</td>\n      <td>0.0</td>\n      <td>0.0</td>\n      <td>...</td>\n      <td>0.0</td>\n      <td>0.0</td>\n      <td>0.0</td>\n      <td>0.0</td>\n      <td>0.0</td>\n      <td>0.0</td>\n      <td>0.0</td>\n      <td>0.0</td>\n      <td>0.0</td>\n      <td>0.0</td>\n    </tr>\n  </tbody>\n</table>\n<p>8 rows × 42 columns</p>\n</div>"
     },
     "execution_count": 5,
     "metadata": {},
     "output_type": "execute_result"
    }
   ],
   "source": [
    "train_data[cols_to_drop].describe()"
   ],
   "metadata": {
    "collapsed": false,
    "pycharm": {
     "name": "#%%\n"
    }
   }
  },
  {
   "cell_type": "code",
   "execution_count": 6,
   "outputs": [
    {
     "name": "stdout",
     "output_type": "stream",
     "text": [
      "Se han eliminado 42 columnas.\n"
     ]
    }
   ],
   "source": [
    "train_data = train_data.drop(labels=cols_to_drop, axis=1)\n",
    "test_data = test_data.drop(labels=cols_to_drop, axis=1)\n",
    "print(f\"Se han eliminado {len(cols_to_drop)} columnas.\")"
   ],
   "metadata": {
    "collapsed": false,
    "pycharm": {
     "name": "#%%\n"
    }
   }
  },
  {
   "cell_type": "code",
   "execution_count": 7,
   "outputs": [],
   "source": [
    "quasi = FilterSelector(threshold=0.998)\n",
    "quasi_constant = quasi.apply_quasiconstant_selector(data=train_data)"
   ],
   "metadata": {
    "collapsed": false,
    "pycharm": {
     "name": "#%%\n"
    }
   }
  },
  {
   "cell_type": "code",
   "execution_count": 8,
   "outputs": [
    {
     "data": {
      "text/plain": "              var_1         var_2          var_3         var_6         var_7  \\\ncount  35000.000000  35000.000000   35000.000000  3.500000e+04  35000.000000   \nmean       0.002486      0.000057      17.576147  2.857143e+03      0.000257   \nstd        0.116717      0.007559    1382.108843  5.345225e+05      0.027774   \nmin        0.000000      0.000000       0.000000  0.000000e+00      0.000000   \n25%        0.000000      0.000000       0.000000  0.000000e+00      0.000000   \n50%        0.000000      0.000000       0.000000  0.000000e+00      0.000000   \n75%        0.000000      0.000000       0.000000  0.000000e+00      0.000000   \nmax        9.000000      1.000000  207901.336500  1.000000e+08      3.000000   \n\n              var_9        var_10        var_11        var_12         var_16  \\\ncount  35000.000000  35000.000000  35000.000000  35000.000000   35000.000000   \nmean       0.000257      0.000257      0.082170      0.291649      55.856181   \nstd        0.027774      0.035856     15.372593     40.879086    2558.491747   \nmin        0.000000      0.000000      0.000000      0.000000       0.000000   \n25%        0.000000      0.000000      0.000000      0.000000       0.000000   \n50%        0.000000      0.000000      0.000000      0.000000       0.000000   \n75%        0.000000      0.000000      0.000000      0.000000       0.000000   \nmax        3.000000      6.000000   2875.948800   6891.459600  377990.085000   \n\n       ...       var_274       var_280       var_282       var_283  \\\ncount  ...  35000.000000  35000.000000  35000.000000  35000.000000   \nmean   ...      0.000771      0.546890      0.001457      0.535729   \nstd    ...      0.048102    102.313825      0.038145    100.225788   \nmin    ...      0.000000      0.000000      0.000000      0.000000   \n25%    ...      0.000000      0.000000      0.000000      0.000000   \n50%    ...      0.000000      0.000000      0.000000      0.000000   \n75%    ...      0.000000      0.000000      0.000000      0.000000   \nmax    ...      3.000000  19141.164000      1.000000  18750.528000   \n\n            var_285        var_286       var_289       var_290       var_298  \\\ncount  35000.000000   35000.000000  35000.000000  35000.000000  35000.000000   \nmean       0.000171      73.226958      0.000086      8.255099      0.003086   \nstd        0.022678    2945.173943      0.009258    465.083220      0.079583   \nmin        0.000000       0.000000      0.000000      0.000000      0.000000   \n25%        0.000000       0.000000      0.000000      0.000000      0.000000   \n50%        0.000000       0.000000      0.000000      0.000000      0.000000   \n75%        0.000000       0.000000      0.000000      0.000000      0.000000   \nmax        3.000000  246477.390600      1.000000  45503.530800      3.000000   \n\n             var_299  \ncount   35000.000000  \nmean       13.551139  \nstd       915.470055  \nmin         0.000000  \n25%         0.000000  \n50%         0.000000  \n75%         0.000000  \nmax    134666.681100  \n\n[8 rows x 97 columns]",
      "text/html": "<div>\n<style scoped>\n    .dataframe tbody tr th:only-of-type {\n        vertical-align: middle;\n    }\n\n    .dataframe tbody tr th {\n        vertical-align: top;\n    }\n\n    .dataframe thead th {\n        text-align: right;\n    }\n</style>\n<table border=\"1\" class=\"dataframe\">\n  <thead>\n    <tr style=\"text-align: right;\">\n      <th></th>\n      <th>var_1</th>\n      <th>var_2</th>\n      <th>var_3</th>\n      <th>var_6</th>\n      <th>var_7</th>\n      <th>var_9</th>\n      <th>var_10</th>\n      <th>var_11</th>\n      <th>var_12</th>\n      <th>var_16</th>\n      <th>...</th>\n      <th>var_274</th>\n      <th>var_280</th>\n      <th>var_282</th>\n      <th>var_283</th>\n      <th>var_285</th>\n      <th>var_286</th>\n      <th>var_289</th>\n      <th>var_290</th>\n      <th>var_298</th>\n      <th>var_299</th>\n    </tr>\n  </thead>\n  <tbody>\n    <tr>\n      <th>count</th>\n      <td>35000.000000</td>\n      <td>35000.000000</td>\n      <td>35000.000000</td>\n      <td>3.500000e+04</td>\n      <td>35000.000000</td>\n      <td>35000.000000</td>\n      <td>35000.000000</td>\n      <td>35000.000000</td>\n      <td>35000.000000</td>\n      <td>35000.000000</td>\n      <td>...</td>\n      <td>35000.000000</td>\n      <td>35000.000000</td>\n      <td>35000.000000</td>\n      <td>35000.000000</td>\n      <td>35000.000000</td>\n      <td>35000.000000</td>\n      <td>35000.000000</td>\n      <td>35000.000000</td>\n      <td>35000.000000</td>\n      <td>35000.000000</td>\n    </tr>\n    <tr>\n      <th>mean</th>\n      <td>0.002486</td>\n      <td>0.000057</td>\n      <td>17.576147</td>\n      <td>2.857143e+03</td>\n      <td>0.000257</td>\n      <td>0.000257</td>\n      <td>0.000257</td>\n      <td>0.082170</td>\n      <td>0.291649</td>\n      <td>55.856181</td>\n      <td>...</td>\n      <td>0.000771</td>\n      <td>0.546890</td>\n      <td>0.001457</td>\n      <td>0.535729</td>\n      <td>0.000171</td>\n      <td>73.226958</td>\n      <td>0.000086</td>\n      <td>8.255099</td>\n      <td>0.003086</td>\n      <td>13.551139</td>\n    </tr>\n    <tr>\n      <th>std</th>\n      <td>0.116717</td>\n      <td>0.007559</td>\n      <td>1382.108843</td>\n      <td>5.345225e+05</td>\n      <td>0.027774</td>\n      <td>0.027774</td>\n      <td>0.035856</td>\n      <td>15.372593</td>\n      <td>40.879086</td>\n      <td>2558.491747</td>\n      <td>...</td>\n      <td>0.048102</td>\n      <td>102.313825</td>\n      <td>0.038145</td>\n      <td>100.225788</td>\n      <td>0.022678</td>\n      <td>2945.173943</td>\n      <td>0.009258</td>\n      <td>465.083220</td>\n      <td>0.079583</td>\n      <td>915.470055</td>\n    </tr>\n    <tr>\n      <th>min</th>\n      <td>0.000000</td>\n      <td>0.000000</td>\n      <td>0.000000</td>\n      <td>0.000000e+00</td>\n      <td>0.000000</td>\n      <td>0.000000</td>\n      <td>0.000000</td>\n      <td>0.000000</td>\n      <td>0.000000</td>\n      <td>0.000000</td>\n      <td>...</td>\n      <td>0.000000</td>\n      <td>0.000000</td>\n      <td>0.000000</td>\n      <td>0.000000</td>\n      <td>0.000000</td>\n      <td>0.000000</td>\n      <td>0.000000</td>\n      <td>0.000000</td>\n      <td>0.000000</td>\n      <td>0.000000</td>\n    </tr>\n    <tr>\n      <th>25%</th>\n      <td>0.000000</td>\n      <td>0.000000</td>\n      <td>0.000000</td>\n      <td>0.000000e+00</td>\n      <td>0.000000</td>\n      <td>0.000000</td>\n      <td>0.000000</td>\n      <td>0.000000</td>\n      <td>0.000000</td>\n      <td>0.000000</td>\n      <td>...</td>\n      <td>0.000000</td>\n      <td>0.000000</td>\n      <td>0.000000</td>\n      <td>0.000000</td>\n      <td>0.000000</td>\n      <td>0.000000</td>\n      <td>0.000000</td>\n      <td>0.000000</td>\n      <td>0.000000</td>\n      <td>0.000000</td>\n    </tr>\n    <tr>\n      <th>50%</th>\n      <td>0.000000</td>\n      <td>0.000000</td>\n      <td>0.000000</td>\n      <td>0.000000e+00</td>\n      <td>0.000000</td>\n      <td>0.000000</td>\n      <td>0.000000</td>\n      <td>0.000000</td>\n      <td>0.000000</td>\n      <td>0.000000</td>\n      <td>...</td>\n      <td>0.000000</td>\n      <td>0.000000</td>\n      <td>0.000000</td>\n      <td>0.000000</td>\n      <td>0.000000</td>\n      <td>0.000000</td>\n      <td>0.000000</td>\n      <td>0.000000</td>\n      <td>0.000000</td>\n      <td>0.000000</td>\n    </tr>\n    <tr>\n      <th>75%</th>\n      <td>0.000000</td>\n      <td>0.000000</td>\n      <td>0.000000</td>\n      <td>0.000000e+00</td>\n      <td>0.000000</td>\n      <td>0.000000</td>\n      <td>0.000000</td>\n      <td>0.000000</td>\n      <td>0.000000</td>\n      <td>0.000000</td>\n      <td>...</td>\n      <td>0.000000</td>\n      <td>0.000000</td>\n      <td>0.000000</td>\n      <td>0.000000</td>\n      <td>0.000000</td>\n      <td>0.000000</td>\n      <td>0.000000</td>\n      <td>0.000000</td>\n      <td>0.000000</td>\n      <td>0.000000</td>\n    </tr>\n    <tr>\n      <th>max</th>\n      <td>9.000000</td>\n      <td>1.000000</td>\n      <td>207901.336500</td>\n      <td>1.000000e+08</td>\n      <td>3.000000</td>\n      <td>3.000000</td>\n      <td>6.000000</td>\n      <td>2875.948800</td>\n      <td>6891.459600</td>\n      <td>377990.085000</td>\n      <td>...</td>\n      <td>3.000000</td>\n      <td>19141.164000</td>\n      <td>1.000000</td>\n      <td>18750.528000</td>\n      <td>3.000000</td>\n      <td>246477.390600</td>\n      <td>1.000000</td>\n      <td>45503.530800</td>\n      <td>3.000000</td>\n      <td>134666.681100</td>\n    </tr>\n  </tbody>\n</table>\n<p>8 rows × 97 columns</p>\n</div>"
     },
     "execution_count": 8,
     "metadata": {},
     "output_type": "execute_result"
    }
   ],
   "source": [
    "train_data[quasi_constant].describe()"
   ],
   "metadata": {
    "collapsed": false,
    "pycharm": {
     "name": "#%%\n"
    }
   }
  },
  {
   "cell_type": "code",
   "execution_count": 9,
   "outputs": [
    {
     "name": "stdout",
     "output_type": "stream",
     "text": [
      "Se han eliminado 97 columnas.\n"
     ]
    }
   ],
   "source": [
    "train_data = train_data.drop(labels=quasi_constant, axis=1)\n",
    "test_data = test_data.drop(labels=quasi_constant, axis=1)\n",
    "print(f\"Se han eliminado {len(quasi_constant)} columnas.\")"
   ],
   "metadata": {
    "collapsed": false,
    "pycharm": {
     "name": "#%%\n"
    }
   }
  },
  {
   "cell_type": "code",
   "execution_count": 10,
   "outputs": [],
   "source": [
    "corr_matrix = train_data.corr()\n",
    "\n",
    "correlation = FilterSelector(threshold=0.9)\n",
    "correlated_features = correlation.apply_correlation_selector(corr_matrix=corr_matrix)"
   ],
   "metadata": {
    "collapsed": false,
    "pycharm": {
     "name": "#%%\n"
    }
   }
  },
  {
   "cell_type": "code",
   "execution_count": 11,
   "outputs": [
    {
     "name": "stdout",
     "output_type": "stream",
     "text": [
      "Se han eliminado 64 columnas.\n"
     ]
    }
   ],
   "source": [
    "train_data = train_data.drop(labels=correlated_features, axis=1)\n",
    "test_data = test_data.drop(labels=correlated_features, axis=1)\n",
    "print(f\"Se han eliminado {len(correlated_features)} columnas.\")"
   ],
   "metadata": {
    "collapsed": false,
    "pycharm": {
     "name": "#%%\n"
    }
   }
  },
  {
   "cell_type": "code",
   "execution_count": 12,
   "outputs": [
    {
     "name": "stdout",
     "output_type": "stream",
     "text": [
      "El set de entrenamiento tiene 35000 observaciones, y 97 columnas.\n",
      "El set de prueba tiene 15000 observaciones, y 97 columnas.\n"
     ]
    }
   ],
   "source": [
    "print(f\"El set de entrenamiento tiene {train_data.shape[0]} observaciones, y {train_data.shape[1]} columnas.\")\n",
    "print(f\"El set de prueba tiene {test_data.shape[0]} observaciones, y {test_data.shape[1]} columnas.\")"
   ],
   "metadata": {
    "collapsed": false,
    "pycharm": {
     "name": "#%%\n"
    }
   }
  },
  {
   "cell_type": "markdown",
   "source": [
    "## Wrapper method"
   ],
   "metadata": {
    "collapsed": false,
    "pycharm": {
     "name": "#%% md\n"
    }
   }
  },
  {
   "cell_type": "code",
   "execution_count": null,
   "outputs": [],
   "source": [],
   "metadata": {
    "collapsed": false,
    "pycharm": {
     "name": "#%%\n"
    }
   }
  }
 ],
 "metadata": {
  "kernelspec": {
   "display_name": "Python 3",
   "language": "python",
   "name": "python3"
  },
  "language_info": {
   "codemirror_mode": {
    "name": "ipython",
    "version": 2
   },
   "file_extension": ".py",
   "mimetype": "text/x-python",
   "name": "python",
   "nbconvert_exporter": "python",
   "pygments_lexer": "ipython2",
   "version": "2.7.6"
  }
 },
 "nbformat": 4,
 "nbformat_minor": 0
}